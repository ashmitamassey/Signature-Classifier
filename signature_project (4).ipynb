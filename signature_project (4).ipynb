{
 "cells": [
  {
   "cell_type": "code",
   "execution_count": 4,
   "id": "4c5b1c46",
   "metadata": {},
   "outputs": [
    {
     "name": "stdout",
     "output_type": "stream",
     "text": [
      "Collecting opencv-python\n",
      "  Downloading opencv_python-4.11.0.86-cp37-abi3-win_amd64.whl (39.5 MB)\n",
      "Requirement already satisfied: numpy>=1.17.3 in c:\\users\\hp\\anaconda3\\lib\\site-packages (from opencv-python) (1.22.4)\n",
      "Installing collected packages: opencv-python\n",
      "Successfully installed opencv-python-4.11.0.86\n"
     ]
    }
   ],
   "source": [
    "!pip install opencv-python"
   ]
  },
  {
   "cell_type": "code",
   "execution_count": 5,
   "id": "095ce262",
   "metadata": {},
   "outputs": [],
   "source": [
    "import cv2\n",
    "import numpy as np\n",
    "import os\n",
    "import matplotlib.pyplot as plt\n",
    "from sklearn.model_selection import train_test_split\n",
    "from sklearn.preprocessing import StandardScaler\n",
    "from sklearn.svm import SVC\n",
    "from sklearn.metrics import accuracy_score, classification_report, confusion_matrix\n"
   ]
  },
  {
   "cell_type": "code",
   "execution_count": 6,
   "id": "d2908d15",
   "metadata": {},
   "outputs": [],
   "source": [
    "dataset_path = r\"C:\\Users\\HP\\Downloads\\archive (2)\\signatures\"\n"
   ]
  },
  {
   "cell_type": "code",
   "execution_count": 3,
   "id": "a16ffe09",
   "metadata": {},
   "outputs": [
    {
     "name": "stdout",
     "output_type": "stream",
     "text": [
      "Final shape of X: (2640, 128, 128)\n",
      "Final shape of y: (2640,)\n"
     ]
    }
   ],
   "source": [
    "import numpy as np\n",
    "import cv2\n",
    "import os\n",
    "\n",
    "dataset_path = r\"C:\\Users\\HP\\Downloads\\archive (2)\\signatures\"\n",
    "image_size = (128, 128)  # Target size\n",
    "\n",
    "images = []  \n",
    "labels = []  \n",
    "\n",
    "for label, folder in enumerate([\"full_org\", \"full_forg\"]):  # 0 for genuine, 1 for forged\n",
    "    folder_path = os.path.join(dataset_path, folder)\n",
    "\n",
    "    if not os.path.exists(folder_path):  \n",
    "        print(f\"Warning: {folder_path} does not exist!\")  \n",
    "        continue  \n",
    "\n",
    "    for filename in os.listdir(folder_path):\n",
    "        img_path = os.path.join(folder_path, filename)\n",
    "\n",
    "        # Skip non-image files like Thumbs.db\n",
    "        if not filename.lower().endswith((\".png\", \".jpg\", \".jpeg\", \".bmp\", \".tiff\")):\n",
    "            print(f\"Skipping non-image file: {filename}\")\n",
    "            continue  \n",
    "\n",
    "        img = cv2.imread(img_path, cv2.IMREAD_GRAYSCALE)  # Read as grayscale\n",
    "        \n",
    "        if img is None:\n",
    "            print(f\"Warning: Could not read {img_path}\")\n",
    "            continue  \n",
    "\n",
    "        try:\n",
    "            img = cv2.resize(img, image_size) \n",
    "            img = np.array(img, dtype=np.float32)  \n",
    "\n",
    "         \n",
    "            if img.shape != (128, 128):\n",
    "                print(f\"Fixing shape for {filename}, original shape: {img.shape}\")\n",
    "                img = cv2.resize(img, image_size)\n",
    "\n",
    "          \n",
    "            if img.shape == (128, 128):\n",
    "                images.append(img)  \n",
    "                labels.append(label)  \n",
    "            else:\n",
    "                print(f\"Skipping {filename} due to incorrect shape: {img.shape}\")\n",
    "\n",
    "        except Exception as e:\n",
    "            print(f\"Error processing {filename}: {e}\")\n",
    "            continue  \n",
    "\n",
    "if images:\n",
    "    X = np.array(images, dtype=np.float32)  \n",
    "    y = np.array(labels, dtype=np.int32) \n",
    "\n",
    "    print(\"Final shape of X:\", X.shape)  \n",
    "    print(\"Final shape of y:\", y.shape) \n",
    "else:\n",
    "    print(\"Error: No valid images were loaded.\")\n"
   ]
  },
  {
   "cell_type": "code",
   "execution_count": 70,
   "id": "b04e0409",
   "metadata": {},
   "outputs": [],
   "source": [
    "allowed_extensions = (\".jpg\", \".jpeg\", \".png\", \".bmp\", \".tiff\")"
   ]
  },
  {
   "cell_type": "code",
   "execution_count": 7,
   "id": "7ab41337",
   "metadata": {},
   "outputs": [
    {
     "data": {
      "text/plain": [
       "SVC(kernel='linear', random_state=42)"
      ]
     },
     "execution_count": 7,
     "metadata": {},
     "output_type": "execute_result"
    }
   ],
   "source": [
    "from sklearn.metrics import accuracy_score, classification_report, confusion_matrix\n",
    "\n",
    "# Convert lists to NumPy arrays\n",
    "X = np.array(images, dtype=np.float32)  # Ensure all elements are float32\n",
    "y = np.array(labels, dtype=np.int32)    # Ensure labels are int32\n",
    "\n",
    "# Flatten images\n",
    "X = X.reshape(len(X), -1)\n",
    "\n",
    "# Split dataset\n",
    "X_train, X_test, y_train, y_test = train_test_split(X, y, test_size=0.2, random_state=42)\n",
    "\n",
    "# Standardize the dataset\n",
    "scaler = StandardScaler()\n",
    "X_train = scaler.fit_transform(X_train)\n",
    "X_test = scaler.transform(X_test)\n",
    "\n",
    "# Train SVM Model\n",
    "svm_model = SVC(kernel='linear', C=1.0, random_state=42)\n",
    "svm_model.fit(X_train, y_train)  \n",
    "\n"
   ]
  },
  {
   "cell_type": "code",
   "execution_count": 8,
   "id": "97e762f9",
   "metadata": {},
   "outputs": [
    {
     "name": "stdout",
     "output_type": "stream",
     "text": [
      "Training successful!\n",
      "Prediction successful! \n"
     ]
    }
   ],
   "source": [
    "print(\"Training successful!\")\n",
    "y_pred = svm_model.predict(X_test)\n",
    "print(\"Prediction successful! \")\n"
   ]
  }
 ],
 "metadata": {
  "kernelspec": {
   "display_name": "Python 3",
   "language": "python",
   "name": "python3"
  },
  "language_info": {
   "codemirror_mode": {
    "name": "ipython",
    "version": 3
   },
   "file_extension": ".py",
   "mimetype": "text/x-python",
   "name": "python",
   "nbconvert_exporter": "python",
   "pygments_lexer": "ipython3",
   "version": "3.8.8"
  }
 },
 "nbformat": 4,
 "nbformat_minor": 5
}
